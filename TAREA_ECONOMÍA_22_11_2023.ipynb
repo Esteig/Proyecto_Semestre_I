{
  "nbformat": 4,
  "nbformat_minor": 0,
  "metadata": {
    "colab": {
      "private_outputs": true,
      "provenance": []
    },
    "kernelspec": {
      "name": "python3",
      "display_name": "Python 3"
    },
    "language_info": {
      "name": "python"
    }
  },
  "cells": [
    {
      "cell_type": "code",
      "source": [
        "import matplotlib.pyplot as plt\n",
        "import pandas as pd"
      ],
      "metadata": {
        "id": "HbHI3gJgUGu_"
      },
      "execution_count": null,
      "outputs": []
    },
    {
      "cell_type": "code",
      "execution_count": null,
      "metadata": {
        "id": "LAkHWVioPknX"
      },
      "outputs": [],
      "source": [
        "url = 'https://raw.githubusercontent.com/Esteig/Proyecto_Semestre_I/main/1.1.6.TCM_Banda-cambiaria_Serie-historica.csv'\n",
        "df = pd.read_csv(url)\n",
        "\n",
        "df.columns = ['Fecha(dd/mm/aaaa)', 'Piso (COP/USD)', 'Punto medio (COP/USD)',  \"Techo (COP/USD)\" , \"Precio (COP/USD)\"]\n",
        "\n",
        "df = df.drop(df.index[0:7])\n",
        "df = df.reset_index(drop=True)\n",
        "df = df.drop(index=1384)\n",
        "df = df.drop(index=1385)\n",
        "df = df.drop(index=1386)\n",
        "df = df.drop(index=1387)\n",
        "df = df.drop(index=1388)\n",
        "df = df.drop(index=1389)\n",
        "\n",
        "df['Fecha(dd/mm/aaaa)'] = pd.to_datetime(df['Fecha(dd/mm/aaaa)'], format='%d/%m/%Y')"
      ]
    },
    {
      "cell_type": "code",
      "source": [
        "data_dolar = {\n",
        "    'Fecha(dd/mm/aaaa)': ['1994-01-24', '1995-01-24' , '1996-01-24' , '1997-01-24', '1998-01-24', '1999-01-24' , '1999-09-24'],  # Fechas específicas\n",
        "    'Precio Dólar (USD/COP)': [816.69 , 856.65 , 1026.08 , 1032.62 , 1332.78 , 1591.81 , 1995.64 ]  # Precios correspondientes\n",
        "}\n",
        "df_dolar = pd.DataFrame(data_dolar)\n",
        "\n",
        "# Convertir la columna de fechas a datetime en ambos DataFrames\n",
        "df['Fecha(dd/mm/aaaa)'] = pd.to_datetime(df['Fecha(dd/mm/aaaa)'])\n",
        "df_dolar['Fecha(dd/mm/aaaa)'] = pd.to_datetime(df_dolar['Fecha(dd/mm/aaaa)'])\n",
        "\n",
        "# Unir los DataFrames\n",
        "df = df.merge(df_dolar, on='Fecha(dd/mm/aaaa)', how='left')\n",
        "\n",
        "# Trasladar los valores de 'Precio Dólar (USD/COP)' a 'Precio (COP/USD)' en el DataFrame principal\n",
        "df['Precio (COP/USD)'] = df['Precio Dólar (USD/COP)']\n",
        "\n",
        "# Opcional: Eliminar la columna 'Precio Dólar (USD/COP)' si ya no se necesita\n",
        "df.drop('Precio Dólar (USD/COP)', axis=1, inplace=True)"
      ],
      "metadata": {
        "id": "S3LRyrMYE46Q"
      },
      "execution_count": null,
      "outputs": []
    },
    {
      "cell_type": "code",
      "source": [
        "df.sort_values('Fecha(dd/mm/aaaa)', inplace=True)\n",
        "\n",
        "# Inicializa las listas para almacenar los datos seleccionados\n",
        "fechas_seleccionadas = []\n",
        "piso_seleccionado = []\n",
        "punto_medio_seleccionado = []\n",
        "techo_seleccionado = []\n",
        "\n",
        "# Agrupa por año y selecciona la primera, la mediana y la última entrada\n",
        "for year, group in df.groupby(df['Fecha(dd/mm/aaaa)'].dt.year):\n",
        "    if not group.empty:\n",
        "        fechas_seleccionadas.append(group.iloc[0]['Fecha(dd/mm/aaaa)'])\n",
        "        piso_seleccionado.append(group.iloc[0]['Piso (COP/USD)'])\n",
        "        punto_medio_seleccionado.append(group.iloc[0]['Punto medio (COP/USD)'])\n",
        "        techo_seleccionado.append(group.iloc[0]['Techo (COP/USD)'])\n",
        "\n",
        "        if len(group) > 1:  # Asegúrese de que hay más de una entrada para tomar la mediana y la última\n",
        "            fechas_seleccionadas.append(group.iloc[len(group)//2]['Fecha(dd/mm/aaaa)'])\n",
        "            piso_seleccionado.append(group.iloc[len(group)//2]['Piso (COP/USD)'])\n",
        "            punto_medio_seleccionado.append(group.iloc[len(group)//2]['Punto medio (COP/USD)'])\n",
        "            techo_seleccionado.append(group.iloc[len(group)//2]['Techo (COP/USD)'])\n",
        "\n",
        "            fechas_seleccionadas.append(group.iloc[-1]['Fecha(dd/mm/aaaa)'])\n",
        "            piso_seleccionado.append(group.iloc[-1]['Piso (COP/USD)'])\n",
        "            punto_medio_seleccionado.append(group.iloc[-1]['Punto medio (COP/USD)'])\n",
        "            techo_seleccionado.append(group.iloc[-1]['Techo (COP/USD)'])\n",
        "\n",
        "# Crea la gráfica con las fechas seleccionadas\n",
        "plt.figure(figsize=(24, 12))\n",
        "plt.plot(fechas_seleccionadas, piso_seleccionado, label='Piso (COP/USD)', marker='o')\n",
        "plt.plot(fechas_seleccionadas, punto_medio_seleccionado, label='Punto medio (COP/USD)', marker='o')\n",
        "plt.plot(fechas_seleccionadas, techo_seleccionado, label='Techo (COP/USD)', marker='o')\n",
        "\n",
        "\n",
        "plt.xlabel('Fecha')\n",
        "plt.ylabel('Precio (COP/USD)')\n",
        "plt.title('Precios Seleccionados al Inicio, Medio y Fin de Cada Año')\n",
        "plt.legend()\n",
        "plt.xticks(rotation=45)\n",
        "plt.tight_layout()  # Ajusta automáticamente los subplots para que encajen en el área de la figura\n",
        "plt.grid(True)\n",
        "plt.show()"
      ],
      "metadata": {
        "id": "nYo9PFXkgGb0"
      },
      "execution_count": null,
      "outputs": []
    }
  ]
}